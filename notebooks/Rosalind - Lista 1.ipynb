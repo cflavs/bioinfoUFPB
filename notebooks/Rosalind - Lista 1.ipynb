{
 "cells": [
  {
   "cell_type": "code",
   "execution_count": 2,
   "metadata": {},
   "outputs": [],
   "source": [
    "dataset = 'AGCTTTTCATTCTGACTGCAACGGGCAATATGTCTCTGTGTGGATTAAAAAAAGAGTGTCTGATAGCAGC'"
   ]
  },
  {
   "cell_type": "code",
   "execution_count": 4,
   "metadata": {},
   "outputs": [
    {
     "name": "stdout",
     "output_type": "stream",
     "text": [
      "20 12 17 21\n"
     ]
    }
   ],
   "source": [
    "print(dataset.count('A'), dataset.count('C'),dataset.count('G'),dataset.count('T'))"
   ]
  },
  {
   "cell_type": "code",
   "execution_count": 5,
   "metadata": {},
   "outputs": [],
   "source": [
    "DNA = 'GATGGAACTTGACTACGTAAATT'"
   ]
  },
  {
   "cell_type": "code",
   "execution_count": 6,
   "metadata": {},
   "outputs": [],
   "source": [
    "RNA = DNA.replace(\"T\", \"U\")"
   ]
  },
  {
   "cell_type": "code",
   "execution_count": 7,
   "metadata": {},
   "outputs": [
    {
     "data": {
      "text/plain": [
       "'GAUGGAACUUGACUACGUAAAUU'"
      ]
     },
     "execution_count": 7,
     "metadata": {},
     "output_type": "execute_result"
    }
   ],
   "source": [
    "RNA"
   ]
  },
  {
   "cell_type": "code",
   "execution_count": 47,
   "metadata": {},
   "outputs": [
    {
     "name": "stdout",
     "output_type": "stream",
     "text": [
      "ACCGGGTTTT\n"
     ]
    }
   ],
   "source": [
    "DNA = \"AAAACCCGGT\"\n",
    "DNA_rev = DNA.replace('A', 't').replace('T', 'a').replace('C', 'g').replace('G', 'c').upper()[::-1]\n",
    "print(DNA_rev)"
   ]
  },
  {
   "cell_type": "code",
   "execution_count": 24,
   "metadata": {},
   "outputs": [],
   "source": [
    "DNA = 'CCACCCTCGTGGTATGGCTAGGCATTCAGGAACCGGAGAACGCTTCAGACCAGCCCGGACTGGGAACCTGCGGGCAGTAGGTGGAAT'\n",
    "GC_content = (DNA.count('C')+DNA.count('G'))/len(DNA)"
   ]
  },
  {
   "cell_type": "code",
   "execution_count": 25,
   "metadata": {},
   "outputs": [
    {
     "data": {
      "text/plain": [
       "87"
      ]
     },
     "execution_count": 25,
     "metadata": {},
     "output_type": "execute_result"
    }
   ],
   "source": [
    "len(DNA)"
   ]
  },
  {
   "cell_type": "code",
   "execution_count": 19,
   "metadata": {},
   "outputs": [],
   "source": [
    "with open('../datasets/rosalind_gc.txt') as f:\n",
    "    lines = f.readlines()"
   ]
  },
  {
   "cell_type": "code",
   "execution_count": 29,
   "metadata": {},
   "outputs": [
    {
     "name": "stdout",
     "output_type": "stream",
     "text": [
      "CCTGCGGAAGATCGGCACTAGAATAGCCAGAACCGTTTCTCTGAGGCTTCCGGCCTTCCCTCCCACTAATAATTCTGAGG\n",
      "\n",
      "CCATCGGTAGCGCATCCTTAGTCCAATTAAGTCCCTATCCAGGCGCTCCGCCGAAGGTCTATATCCATTTGTCAGCAGACACGC\n",
      "\n",
      "CCACCCTCGTGGTATGGCTAGGCATTCAGGAACCGGAGAACGCTTCAGACCAGCCCGGACTGGGAACCTGCGGGCAGTAGGTGGAAT\n",
      "\n",
      ">Rosalind_5959\n",
      " 0.6091954022988506\n"
     ]
    }
   ],
   "source": [
    "lines\n",
    "gc_list = []\n",
    "for i in range(len(lines)):\n",
    "    if \">\" not in lines[i]:\n",
    "        print(lines[i])\n",
    "        gc_list.append((lines[i].count('C')+lines[i].count('G'))/(len(lines[i])-1))\n",
    "print(lines[gc_list.index(max(gc_list))],max(gc_list))"
   ]
  },
  {
   "cell_type": "code",
   "execution_count": 32,
   "metadata": {},
   "outputs": [],
   "source": [
    "protain_dictionary ={   'UUU': 'F',     'CUU': 'L',     'AUU': 'I',     'GUU': 'V',\n",
    "                        'UUC': 'F',     'CUC': 'L',     'AUC': 'I',     'GUC': 'V',\n",
    "                        'UUA': 'L',     'CUA': 'L',     'AUA': 'I',     'GUA': 'V',\n",
    "                        'UUG': 'L',     'CUG': 'L',     'AUG': 'M',     'GUG': 'V',\n",
    "                        'UCU': 'S',     'CCU': 'P',     'ACU': 'T',     'GCU': 'A',\n",
    "                        'UCC': 'S',     'CCC': 'P',     'ACC': 'T',     'GCC': 'A',\n",
    "                        'UCA': 'S',     'CCA': 'P',     'ACA': 'T',     'GCA': 'A',\n",
    "                        'UCG': 'S',     'CCG': 'P',     'ACG': 'T',     'GCG': 'A',\n",
    "                        'UAU': 'Y',     'CAU': 'H',     'AAU': 'N',     'GAU': 'D',\n",
    "                        'UAC': 'Y',     'CAC': 'H',     'AAC': 'N',     'GAC': 'D',\n",
    "                        'UAA': 'Stop',  'CAA': 'Q',     'AAA': 'K',     'GAA': 'E',\n",
    "                        'UAG': 'Stop',  'CAG': 'Q',     'AAG': 'K',     'GAG': 'E',\n",
    "                        'UGU': 'C',     'CGU': 'R',     'AGU': 'S',     'GGU': 'G',\n",
    "                        'UGC': 'C',     'CGC': 'R',     'AGC': 'S',     'GGC': 'G',\n",
    "                        'UGA': 'Stop',  'CGA': 'R',     'AGA': 'R',     'GGA': 'G',\n",
    "                        'UGG': 'W',     'CGG': 'R',     'AGG': 'R',     'GGG': 'G'}"
   ]
  },
  {
   "cell_type": "code",
   "execution_count": 47,
   "metadata": {},
   "outputs": [
    {
     "data": {
      "text/plain": [
       "'W'"
      ]
     },
     "execution_count": 47,
     "metadata": {},
     "output_type": "execute_result"
    }
   ],
   "source": [
    "protain_dictionary[RNA[1:1+3]]"
   ]
  },
  {
   "cell_type": "code",
   "execution_count": 33,
   "metadata": {},
   "outputs": [],
   "source": [
    "RNA = \"AUGGCCAUGGCGCCCAGAACUGAGAUCAAUAGUACCCGUAUUAACGGGUGA\""
   ]
  },
  {
   "cell_type": "code",
   "execution_count": 54,
   "metadata": {},
   "outputs": [],
   "source": [
    "protain = ''\n",
    "for i in range(0,len(RNA)-3,3):\n",
    "    protain+=protain_dictionary[RNA[i:i+3]]"
   ]
  },
  {
   "cell_type": "code",
   "execution_count": 55,
   "metadata": {},
   "outputs": [
    {
     "data": {
      "text/plain": [
       "'MAMAPRTEINSTRING'"
      ]
     },
     "execution_count": 55,
     "metadata": {},
     "output_type": "execute_result"
    }
   ],
   "source": [
    "protain"
   ]
  },
  {
   "cell_type": "code",
   "execution_count": null,
   "metadata": {},
   "outputs": [],
   "source": []
  }
 ],
 "metadata": {
  "kernelspec": {
   "display_name": "Python 3",
   "language": "python",
   "name": "python3"
  },
  "language_info": {
   "codemirror_mode": {
    "name": "ipython",
    "version": 3
   },
   "file_extension": ".py",
   "mimetype": "text/x-python",
   "name": "python",
   "nbconvert_exporter": "python",
   "pygments_lexer": "ipython3",
   "version": "3.6.4"
  }
 },
 "nbformat": 4,
 "nbformat_minor": 2
}
